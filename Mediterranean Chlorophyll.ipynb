{
 "cells": [
  {
   "cell_type": "markdown",
   "metadata": {},
   "source": [
    "Author: Giuseppe D'Auria\n",
    "\n",
    "Latest changes: 30-07-23\n",
    "\n",
    "Description: The purpose of this script is to try to alyze a file containing real scientific data, trying to understand its contents. In this specific case, it is satellite data collected from the surface of the ocean."
   ]
  },
  {
   "cell_type": "code",
   "execution_count": 1,
   "metadata": {},
   "outputs": [],
   "source": [
    "import numpy as np\n",
    "from h5py import File\n",
    "import matplotlib.pyplot as plt\n",
    "from datetime import datetime\n",
    "\n",
    "data = File('chlorophyll.hdf5', 'r')"
   ]
  },
  {
   "cell_type": "code",
   "execution_count": 2,
   "metadata": {},
   "outputs": [
    {
     "name": "stdout",
     "output_type": "stream",
     "text": [
      "CHL\n",
      "<HDF5 dataset \"CHL\": shape (53, 65, 182), type \"<f4\">\n",
      "lat\n",
      "<HDF5 dataset \"lat\": shape (65,), type \"<f4\">\n",
      "lon\n",
      "<HDF5 dataset \"lon\": shape (182,), type \"<f4\">\n",
      "mask\n",
      "<HDF5 dataset \"mask\": shape (65, 182), type \"|b1\">\n",
      "time\n",
      "<HDF5 dataset \"time\": shape (53,), type \"<i4\">\n"
     ]
    }
   ],
   "source": [
    "for x in data.keys():\n",
    "    print(x)\n",
    "    print(data[x])"
   ]
  },
  {
   "cell_type": "code",
   "execution_count": 3,
   "metadata": {},
   "outputs": [
    {
     "name": "stdout",
     "output_type": "stream",
     "text": [
      "(65, 182)\n",
      "1\n"
     ]
    }
   ],
   "source": [
    "#for x in data[\"lat\"]:\n",
    "#    print(x)\n",
    "    \n",
    "print(data['mask'].shape)\n",
    "\n",
    "print(data['mask'][3].itemsize)"
   ]
  },
  {
   "cell_type": "code",
   "execution_count": 4,
   "metadata": {},
   "outputs": [
    {
     "name": "stdout",
     "output_type": "stream",
     "text": [
      "2507960\n",
      "260\n",
      "728\n",
      "11830\n",
      "212\n"
     ]
    }
   ],
   "source": [
    "for i in data.keys():\n",
    "    tot = 1\n",
    "    \n",
    "    for j in range(len(data[i].shape)):\n",
    "        tot = tot*data[i].shape[j]\n",
    "    \n",
    "    print(data[i][0].itemsize * tot)\n"
   ]
  },
  {
   "cell_type": "code",
   "execution_count": 5,
   "metadata": {},
   "outputs": [
    {
     "name": "stdout",
     "output_type": "stream",
     "text": [
      "[46.1875 45.9375 45.6875 45.4375 45.1875 44.9375 44.6875 44.4375 44.1875\n",
      " 43.9375 43.6875 43.4375 43.1875 42.9375 42.6875 42.4375 42.1875 41.9375\n",
      " 41.6875 41.4375 41.1875 40.9375 40.6875 40.4375 40.1875 39.9375 39.6875\n",
      " 39.4375 39.1875 38.9375 38.6875 38.4375 38.1875 37.9375 37.6875 37.4375\n",
      " 37.1875 36.9375 36.6875 36.4375 36.1875 35.9375 35.6875 35.4375 35.1875\n",
      " 34.9375 34.6875 34.4375 34.1875 33.9375 33.6875 33.4375 33.1875 32.9375\n",
      " 32.6875 32.4375 32.1875 31.9375 31.6875 31.4375 31.1875 30.9375 30.6875\n",
      " 30.4375 30.1875]\n",
      "[-8.75 -8.5  -8.25 -8.   -7.75 -7.5  -7.25 -7.   -6.75 -6.5  -6.25 -6.\n",
      " -5.75 -5.5  -5.25 -5.   -4.75 -4.5  -4.25 -4.   -3.75 -3.5  -3.25 -3.\n",
      " -2.75 -2.5  -2.25 -2.   -1.75 -1.5  -1.25 -1.   -0.75 -0.5  -0.25  0.\n",
      "  0.25  0.5   0.75  1.    1.25  1.5   1.75  2.    2.25  2.5   2.75  3.\n",
      "  3.25  3.5   3.75  4.    4.25  4.5   4.75  5.    5.25  5.5   5.75  6.\n",
      "  6.25  6.5   6.75  7.    7.25  7.5   7.75  8.    8.25  8.5   8.75  9.\n",
      "  9.25  9.5   9.75 10.   10.25 10.5  10.75 11.   11.25 11.5  11.75 12.\n",
      " 12.25 12.5  12.75 13.   13.25 13.5  13.75 14.   14.25 14.5  14.75 15.\n",
      " 15.25 15.5  15.75 16.   16.25 16.5  16.75 17.   17.25 17.5  17.75 18.\n",
      " 18.25 18.5  18.75 19.   19.25 19.5  19.75 20.   20.25 20.5  20.75 21.\n",
      " 21.25 21.5  21.75 22.   22.25 22.5  22.75 23.   23.25 23.5  23.75 24.\n",
      " 24.25 24.5  24.75 25.   25.25 25.5  25.75 26.   26.25 26.5  26.75 27.\n",
      " 27.25 27.5  27.75 28.   28.25 28.5  28.75 29.   29.25 29.5  29.75 30.\n",
      " 30.25 30.5  30.75 31.   31.25 31.5  31.75 32.   32.25 32.5  32.75 33.\n",
      " 33.25 33.5  33.75 34.   34.25 34.5  34.75 35.   35.25 35.5  35.75 36.\n",
      " 36.25 36.5 ]\n"
     ]
    }
   ],
   "source": [
    "lat = np.array(data['lat'])\n",
    "lon = np.array(data['lon'])\n",
    "\n",
    "print(lat)\n",
    "print(lon)"
   ]
  },
  {
   "cell_type": "code",
   "execution_count": 6,
   "metadata": {},
   "outputs": [
    {
     "data": {
      "text/plain": [
       "65"
      ]
     },
     "execution_count": 6,
     "metadata": {},
     "output_type": "execute_result"
    }
   ],
   "source": [
    "mask = np.array(data['mask'])\n",
    "mask\n",
    "len(mask[0, :])\n",
    "len(mask[:, 0])\n"
   ]
  },
  {
   "cell_type": "code",
   "execution_count": 7,
   "metadata": {},
   "outputs": [
    {
     "data": {
      "text/plain": [
       "<matplotlib.image.AxesImage at 0x22074b1c3d0>"
      ]
     },
     "execution_count": 7,
     "metadata": {},
     "output_type": "execute_result"
    },
    {
     "data": {
      "image/png": "[encoded data removed]",
      "text/plain": [
       "<Figure size 806.4x288 with 1 Axes>"
      ]
     },
     "metadata": {
      "needs_background": "light"
     },
     "output_type": "display_data"
    }
   ],
   "source": [
    "plt.matshow(mask)"
   ]
  },
  {
   "cell_type": "code",
   "execution_count": 8,
   "metadata": {},
   "outputs": [],
   "source": [
    "time = np.array(data['time'])\n",
    "chl = np.array(data['CHL'])"
   ]
  },
  {
   "cell_type": "code",
   "execution_count": 9,
   "metadata": {},
   "outputs": [
    {
     "name": "stdout",
     "output_type": "stream",
     "text": [
      "[1356998400 1357603200 1358208000 1358812800 1359417600 1360022400\n",
      " 1360627200 1361232000 1361836800 1362441600 1363046400 1363651200\n",
      " 1364256000 1364860800 1365465600 1366070400 1366675200 1367280000\n",
      " 1367884800 1368489600 1369094400 1369699200 1370304000 1370908800\n",
      " 1371513600 1372118400 1372723200 1373328000 1373932800 1374537600\n",
      " 1375142400 1375747200 1376352000 1376956800 1377561600 1378166400\n",
      " 1378771200 1379376000 1379980800 1380585600 1381190400 1381795200\n",
      " 1382400000 1383004800 1383609600 1384214400 1384819200 1385424000\n",
      " 1386028800 1386633600 1387238400 1387843200 1388448000]\n"
     ]
    }
   ],
   "source": [
    "print(time)"
   ]
  },
  {
   "cell_type": "code",
   "execution_count": 10,
   "metadata": {},
   "outputs": [
    {
     "name": "stdout",
     "output_type": "stream",
     "text": [
      "<KeysViewHDF5 ['unit']>\n",
      "b'Seconds since EPOC'\n"
     ]
    }
   ],
   "source": [
    "print(data['time'].attrs.keys())\n",
    "print(data['time'].attrs['unit'])"
   ]
  },
  {
   "cell_type": "code",
   "execution_count": 11,
   "metadata": {},
   "outputs": [],
   "source": [
    "time_list = []\n",
    "\n",
    "for i in time:\n",
    "    time_list.append(datetime.fromtimestamp(i))\n",
    "#    print(datetime.fromtimestamp(i))"
   ]
  },
  {
   "cell_type": "code",
   "execution_count": 12,
   "metadata": {},
   "outputs": [],
   "source": [
    "data.close()"
   ]
  },
  {
   "cell_type": "code",
   "execution_count": 13,
   "metadata": {},
   "outputs": [
    {
     "data": {
      "text/plain": [
       "<matplotlib.image.AxesImage at 0x22074c0e3a0>"
      ]
     },
     "execution_count": 13,
     "metadata": {},
     "output_type": "execute_result"
    },
    {
     "data": {
      "image/png": "[encoded data removed]",
      "text/plain": [
       "<Figure size 806.4x288 with 1 Axes>"
      ]
     },
     "metadata": {
      "needs_background": "light"
     },
     "output_type": "display_data"
    }
   ],
   "source": [
    "plt.matshow(chl[24,:,:])"
   ]
  },
  {
   "cell_type": "markdown",
   "metadata": {},
   "source": [
    "These are satellite data that try to estimate the amount of chlorophyll present on the surface layer of the Mediterranean Sea.\n",
    "Unfortunately, we do not have many direct ways to verify \"how much life\" there is in the sea; while we tend to think that, on land, there are places rich in vegetation and animals as opposed to desert areas, we tend to imagine the sea as uniform. In reality, this is a mental representation far from the truth. Even in the sea, especially in the oceans, there are real \"deserts\" of water where life has established itself much less effectively than elsewhere. One of the most widely used biochemical indicators for investigating the biological evolution of a marine area is chlorophyll: it indicates the presence of phytoplankton, the first fundamental step in the marine ecosystem. In particular, the amount of chlorophyll is \"relatively\" easy to measure, for the simple fact that chlorophyll is green. Through satellite observations, it is possible to measure how much surface emissivity there is in the green color band in a given region of the ocean to get an estimate of the amount of chlorophyll."
   ]
  },
  {
   "cell_type": "code",
   "execution_count": 14,
   "metadata": {},
   "outputs": [
    {
     "name": "stdout",
     "output_type": "stream",
     "text": [
      "[[1.1450009  0.9830607  0.90837544 ... 0.08936204 0.08204721 0.06282934]\n",
      " [1.1083763  0.851194   0.87744445 ... 0.12508567 0.12159512 0.09955353]\n",
      " [1.2699465  0.9680949  0.9027088  ... 0.10545719 0.09944168 0.08030081]\n",
      " ...\n",
      " [0.70114106 0.7269171  0.7116657  ... 0.09888937 0.08757532 0.07286708]\n",
      " [1.017753   0.94625634 0.7546997  ... 0.09270707 0.08612625 0.07260755]\n",
      " [1.3548378  1.7452166  0.7116657  ... 0.09235835 0.08936821 0.07508697]]\n",
      "(53, 4117)\n",
      "(4117, 53)\n"
     ]
    }
   ],
   "source": [
    "on_sea = np.logical_not(mask)\n",
    "valid_values = chl[:, on_sea]\n",
    "print(valid_values)\n",
    "print(valid_values.shape)\n",
    "temporal_series = valid_values.T\n",
    "\n",
    "print(temporal_series.shape)"
   ]
  },
  {
   "cell_type": "code",
   "execution_count": 15,
   "metadata": {},
   "outputs": [
    {
     "data": {
      "text/plain": [
       "<matplotlib.image.AxesImage at 0x22074c6d100>"
      ]
     },
     "execution_count": 15,
     "metadata": {},
     "output_type": "execute_result"
    },
    {
     "data": {
      "image/png": "[encoded data removed]",
      "text/plain": [
       "<Figure size 806.4x288 with 1 Axes>"
      ]
     },
     "metadata": {
      "needs_background": "light"
     },
     "output_type": "display_data"
    }
   ],
   "source": [
    "plt.matshow(on_sea)"
   ]
  },
  {
   "cell_type": "code",
   "execution_count": 16,
   "metadata": {
    "scrolled": true
   },
   "outputs": [
    {
     "data": {
      "text/plain": [
       "[<matplotlib.lines.Line2D at 0x22074cc9b20>]"
      ]
     },
     "execution_count": 16,
     "metadata": {},
     "output_type": "execute_result"
    },
    {
     "data": {
      "image/png": "[encoded data removed]",
      "text/plain": [
       "<Figure size 432x288 with 1 Axes>"
      ]
     },
     "metadata": {
      "needs_background": "light"
     },
     "output_type": "display_data"
    }
   ],
   "source": [
    "mean = np.mean(temporal_series, axis=0)\n",
    "mean.shape\n",
    "plt.plot(mean)"
   ]
  },
  {
   "cell_type": "markdown",
   "metadata": {},
   "source": [
    "From the plot in which are represented average amounts of chlorophyll in the Mediterranean Sea during a one-year time series, we can notice that in the summer there is a sensible deplemention of chlorophyll concentrations probably due to the higher water temperature."
   ]
  },
  {
   "cell_type": "code",
   "execution_count": 17,
   "metadata": {},
   "outputs": [],
   "source": [
    "mean1 = np.mean(temporal_series)            # mean amount of chlorophyll in the Mediterranean Sea;\n",
    "mean2 = np.mean(temporal_series, axis =0)   # weekly averages of chlorophyll mean amounts in Mediterranean Sea;\n",
    "mean3 = np.mean(temporal_series, axis =1)   # for each point, how much chlorophyll is there on average during the year;"
   ]
  },
  {
   "cell_type": "code",
   "execution_count": 18,
   "metadata": {},
   "outputs": [
    {
     "name": "stdout",
     "output_type": "stream",
     "text": [
      "0.13457444\n",
      "[0.18340145 0.18431646 0.18134713 0.19093423 0.19815074 0.2033097\n",
      " 0.18455099 0.19741642 0.18291095 0.20399705 0.21077812 0.21119094\n",
      " 0.21720706 0.20423877 0.1956317  0.17055301 0.15059309 0.14044201\n",
      " 0.11983097 0.11254054 0.12050638 0.11593191 0.11100931 0.10223678\n",
      " 0.09692601 0.08615123 0.08493154 0.08098738 0.08195038 0.08110029\n",
      " 0.07808125 0.07573089 0.076962   0.07549427 0.07387859 0.0808174\n",
      " 0.07833415 0.077401   0.08055161 0.08303437 0.09298626 0.09550649\n",
      " 0.09949345 0.10005289 0.10899145 0.11982631 0.13372992 0.15101188\n",
      " 0.16994457 0.17060372 0.16263646 0.16445655 0.17784776]\n",
      "[1.1270348  0.90524495 0.7612669  ... 0.0714957  0.06487872 0.06623279]\n"
     ]
    }
   ],
   "source": [
    "print(mean1)\n",
    "print(mean2)\n",
    "print(mean3)"
   ]
  },
  {
   "cell_type": "code",
   "execution_count": 19,
   "metadata": {},
   "outputs": [
    {
     "data": {
      "text/plain": [
       "(4117, 53)"
      ]
     },
     "execution_count": 19,
     "metadata": {},
     "output_type": "execute_result"
    }
   ],
   "source": [
    "variations = temporal_series - mean\n",
    "variations.shape\n",
    "#plt.plot(variations)"
   ]
  },
  {
   "cell_type": "code",
   "execution_count": 20,
   "metadata": {},
   "outputs": [
    {
     "data": {
      "text/plain": [
       "(4117,)"
      ]
     },
     "execution_count": 20,
     "metadata": {},
     "output_type": "execute_result"
    }
   ],
   "source": [
    "l2_error = np. sqrt (np.sum( variations * variations , axis =1))\n",
    "l2_error.shape"
   ]
  },
  {
   "cell_type": "code",
   "execution_count": 21,
   "metadata": {},
   "outputs": [
    {
     "data": {
      "text/plain": [
       "[<matplotlib.lines.Line2D at 0x22074d36250>]"
      ]
     },
     "execution_count": 21,
     "metadata": {},
     "output_type": "execute_result"
    },
    {
     "data": {
      "image/png": "[encoded data removed]",
      "text/plain": [
       "<Figure size 432x288 with 1 Axes>"
      ]
     },
     "metadata": {
      "needs_background": "light"
     },
     "output_type": "display_data"
    }
   ],
   "source": [
    "plt.plot(l2_error)"
   ]
  },
  {
   "cell_type": "code",
   "execution_count": 22,
   "metadata": {},
   "outputs": [],
   "source": [
    "l2_error_map = np.zeros((65, 182))\n",
    "l2_error_map[ mask ] = -1\n",
    "l2_error_map[ on_sea ] = l2_error"
   ]
  },
  {
   "cell_type": "code",
   "execution_count": null,
   "metadata": {},
   "outputs": [],
   "source": []
  },
  {
   "cell_type": "code",
   "execution_count": 23,
   "metadata": {},
   "outputs": [
    {
     "data": {
      "text/plain": [
       "<matplotlib.image.AxesImage at 0x22074d85130>"
      ]
     },
     "execution_count": 23,
     "metadata": {},
     "output_type": "execute_result"
    },
    {
     "data": {
      "image/png": "[encoded data removed]",
      "text/plain": [
       "<Figure size 806.4x288 with 1 Axes>"
      ]
     },
     "metadata": {
      "needs_background": "light"
     },
     "output_type": "display_data"
    }
   ],
   "source": [
    "plt.matshow(l2_error_map)"
   ]
  }
 ],
 "metadata": {
  "kernelspec": {
   "display_name": "Python 3",
   "language": "python",
   "name": "python3"
  },
  "language_info": {
   "codemirror_mode": {
    "name": "ipython",
    "version": 3
   },
   "file_extension": ".py",
   "mimetype": "text/x-python",
   "name": "python",
   "nbconvert_exporter": "python",
   "pygments_lexer": "ipython3",
   "version": "3.8.5"
  }
 },
 "nbformat": 4,
 "nbformat_minor": 4
}
